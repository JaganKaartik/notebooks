{
 "cells": [
  {
   "cell_type": "markdown",
   "metadata": {},
   "source": [
    "# Gradient Boosting: a practical guide"
   ]
  },
  {
   "cell_type": "code",
   "execution_count": 1,
   "metadata": {
    "collapsed": true
   },
   "outputs": [],
   "source": [
    "%matplotlib inline\n",
    "import matplotlib.pyplot as plt\n",
    "import numpy as np\n",
    "\n",
    "from sklearn.model_selection import train_test_split\n",
    "from sklearn.ensemble import GradientBoostingRegressor"
   ]
  },
  {
   "cell_type": "markdown",
   "metadata": {},
   "source": [
    "## An example: the california housing dataset"
   ]
  },
  {
   "cell_type": "code",
   "execution_count": 2,
   "metadata": {
    "collapsed": true
   },
   "outputs": [],
   "source": [
    "from sklearn.datasets import fetch_california_housing\n",
    "from sklearn.metrics import median_absolute_error\n",
    "\n",
    "\n",
    "calhousing = fetch_california_housing()\n",
    "\n",
    "X, y = calhousing.data, calhousing.target"
   ]
  },
  {
   "cell_type": "code",
   "execution_count": 3,
   "metadata": {},
   "outputs": [
    {
     "name": "stdout",
     "output_type": "stream",
     "text": [
      ".. _california_housing_dataset:\n",
      "\n",
      "California Housing dataset\n",
      "--------------------------\n",
      "\n",
      "**Data Set Characteristics:**\n",
      "\n",
      "    :Number of Instances: 20640\n",
      "\n",
      "    :Number of Attributes: 8 numeric, predictive attributes and the target\n",
      "\n",
      "    :Attribute Information:\n",
      "        - MedInc        median income in block\n",
      "        - HouseAge      median house age in block\n",
      "        - AveRooms      average number of rooms\n",
      "        - AveBedrms     average number of bedrooms\n",
      "        - Population    block population\n",
      "        - AveOccup      average house occupancy\n",
      "        - Latitude      house block latitude\n",
      "        - Longitude     house block longitude\n",
      "\n",
      "    :Missing Attribute Values: None\n",
      "\n",
      "This dataset was obtained from the StatLib repository.\n",
      "http://lib.stat.cmu.edu/datasets/\n",
      "\n",
      "The target variable is the median house value for California districts.\n",
      "\n",
      "This dataset was derived from the 1990 U.S. census, using one row per census\n",
      "block group. A block group is the smallest geographical unit for which the U.S.\n",
      "Census Bureau publishes sample data (a block group typically has a population\n",
      "of 600 to 3,000 people).\n",
      "\n",
      "It can be downloaded/loaded using the\n",
      ":func:`sklearn.datasets.fetch_california_housing` function.\n",
      "\n",
      ".. topic:: References\n",
      "\n",
      "    - Pace, R. Kelley and Ronald Barry, Sparse Spatial Autoregressions,\n",
      "      Statistics and Probability Letters, 33 (1997) 291-297\n",
      "\n"
     ]
    }
   ],
   "source": [
    "print(calhousing.DESCR)"
   ]
  },
  {
   "cell_type": "code",
   "execution_count": 4,
   "metadata": {},
   "outputs": [
    {
     "name": "stdout",
     "output_type": "stream",
     "text": [
      "['MedInc', 'HouseAge', 'AveRooms', 'AveBedrms', 'Population', 'AveOccup', 'Latitude', 'Longitude']\n"
     ]
    }
   ],
   "source": [
    "print(calhousing.feature_names)"
   ]
  },
  {
   "cell_type": "code",
   "execution_count": 5,
   "metadata": {
    "collapsed": true
   },
   "outputs": [],
   "source": [
    "X_train, X_test, y_train, y_test = train_test_split(\n",
    "    X, y, test_size=1000, random_state=0)"
   ]
  },
  {
   "cell_type": "markdown",
   "metadata": {},
   "source": [
    "Let's start with a quick baseline model: linear regression (aka. Ordinary Least Squares):"
   ]
  },
  {
   "cell_type": "code",
   "execution_count": 6,
   "metadata": {},
   "outputs": [
    {
     "name": "stdout",
     "output_type": "stream",
     "text": [
      "CPU times: user 15.3 ms, sys: 36.3 ms, total: 51.7 ms\n",
      "Wall time: 26.1 ms\n"
     ]
    }
   ],
   "source": [
    "from sklearn.linear_model import LinearRegression\n",
    "from sklearn.preprocessing import StandardScaler\n",
    "from sklearn.pipeline import make_pipeline\n",
    "\n",
    "%time lm = LinearRegression().fit(X_train, y_train)"
   ]
  },
  {
   "cell_type": "code",
   "execution_count": 7,
   "metadata": {},
   "outputs": [
    {
     "name": "stdout",
     "output_type": "stream",
     "text": [
      "train error: 0.413, test error: 0.419\n"
     ]
    }
   ],
   "source": [
    "print(\"train error: %0.3f, test error: %0.3f\" %\n",
    "      (median_absolute_error(y_train, lm.predict(X_train)),\n",
    "       median_absolute_error(y_test, lm.predict(X_test))))"
   ]
  },
  {
   "cell_type": "code",
   "execution_count": 8,
   "metadata": {},
   "outputs": [
    {
     "data": {
      "image/png": "[encoded data removed]",
      "text/plain": [
       "<Figure size 432x432 with 1 Axes>"
      ]
     },
     "metadata": {
      "needs_background": "light"
     },
     "output_type": "display_data"
    }
   ],
   "source": [
    "def scatter_predictions(y_pred, y_true):\n",
    "    plt.figure(figsize=(6, 6))\n",
    "    plt.xlabel('prediction')\n",
    "    plt.ylabel('true target')\n",
    "    plt.xlim(-1, 6)\n",
    "    plt.ylim(-1, 6)\n",
    "    plt.scatter(y_pred, y_true)\n",
    "    \n",
    "scatter_predictions(lm.predict(X_test), y_test)"
   ]
  },
  {
   "cell_type": "markdown",
   "metadata": {},
   "source": [
    "This is pretty bad: the errors (off-diagonal predictions) seems to be heteroschedastic and there is a saturation effect with many samples with `y_true == 5`. Let's check:"
   ]
  },
  {
   "cell_type": "code",
   "execution_count": 9,
   "metadata": {},
   "outputs": [
    {
     "data": {
      "image/png": "[encoded data removed]",
      "text/plain": [
       "<Figure size 432x288 with 1 Axes>"
      ]
     },
     "metadata": {
      "needs_background": "light"
     },
     "output_type": "display_data"
    }
   ],
   "source": [
    "plt.hist(y_train, bins=50);"
   ]
  },
  {
   "cell_type": "markdown",
   "metadata": {},
   "source": [
    "We can filter out the \"anomalies\" and make the target variable marginal distribution more \"Gaussian\" by taking the log:"
   ]
  },
  {
   "cell_type": "code",
   "execution_count": 10,
   "metadata": {},
   "outputs": [
    {
     "data": {
      "image/png": "[encoded data removed]",
      "text/plain": [
       "<Figure size 432x288 with 1 Axes>"
      ]
     },
     "metadata": {
      "needs_background": "light"
     },
     "output_type": "display_data"
    }
   ],
   "source": [
    "plt.hist(np.log(y_train[y_train < 4.9]), bins=50);"
   ]
  },
  {
   "cell_type": "code",
   "execution_count": 11,
   "metadata": {},
   "outputs": [
    {
     "name": "stdout",
     "output_type": "stream",
     "text": [
      "CPU times: user 23.3 ms, sys: 11.6 ms, total: 34.9 ms\n",
      "Wall time: 11.8 ms\n"
     ]
    },
    {
     "data": {
      "text/plain": [
       "Pipeline(memory=None,\n",
       "         steps=[('standardscaler',\n",
       "                 StandardScaler(copy=True, with_mean=True, with_std=True)),\n",
       "                ('linearregression',\n",
       "                 LinearRegression(copy_X=True, fit_intercept=True, n_jobs=None,\n",
       "                                  normalize=False))],\n",
       "         verbose=False)"
      ]
     },
     "execution_count": 11,
     "metadata": {},
     "output_type": "execute_result"
    }
   ],
   "source": [
    "from sklearn.linear_model import LinearRegression\n",
    "from sklearn.preprocessing import StandardScaler\n",
    "from sklearn.pipeline import make_pipeline\n",
    "\n",
    "\n",
    "lm2 = make_pipeline(StandardScaler(), LinearRegression())\n",
    "%time lm2.fit(X_train[y_train < 4.9], np.log(y_train[y_train < 4.9]))"
   ]
  },
  {
   "cell_type": "code",
   "execution_count": 12,
   "metadata": {},
   "outputs": [
    {
     "name": "stdout",
     "output_type": "stream",
     "text": [
      "train error: 0.325, test error: 0.340\n"
     ]
    }
   ],
   "source": [
    "print(\"train error: %0.3f, test error: %0.3f\" %\n",
    "      (median_absolute_error(y_train[y_train < 4.9],\n",
    "                             np.exp(lm2.predict(X_train[y_train < 4.9]))),\n",
    "       median_absolute_error(y_test[y_test < 4.9],\n",
    "                             np.exp(lm2.predict(X_test[y_test < 4.9])))))"
   ]
  },
  {
   "cell_type": "code",
   "execution_count": 13,
   "metadata": {},
   "outputs": [
    {
     "data": {
      "image/png": "[encoded data removed]",
      "text/plain": [
       "<Figure size 432x432 with 1 Axes>"
      ]
     },
     "metadata": {
      "needs_background": "light"
     },
     "output_type": "display_data"
    }
   ],
   "source": [
    "scatter_predictions(\n",
    "    np.exp(lm2.predict(X_test[y_test < 4.9])),\n",
    "    y_test[y_test < 4.9])"
   ]
  },
  {
   "cell_type": "code",
   "execution_count": 14,
   "metadata": {},
   "outputs": [
    {
     "name": "stdout",
     "output_type": "stream",
     "text": [
      "CPU times: user 7.48 s, sys: 1.45 s, total: 8.93 s\n",
      "Wall time: 2.99 s\n",
      "train error: 0.205, test error: 0.228\n"
     ]
    }
   ],
   "source": [
    "from sklearn.preprocessing import PolynomialFeatures\n",
    "from sklearn.preprocessing import FunctionTransformer\n",
    "from sklearn.pipeline import make_union\n",
    "\n",
    "plm = make_pipeline(\n",
    "    StandardScaler(),\n",
    "    make_union(\n",
    "        FunctionTransformer(lambda x: x, validate=True),\n",
    "        PolynomialFeatures(degree=5)\n",
    "    ),\n",
    "    LinearRegression())\n",
    "\n",
    "%time plm.fit(X_train[y_train < 4.9], np.log(y_train[y_train < 4.9]))\n",
    "\n",
    "print(\"train error: %0.3f, test error: %0.3f\" %\n",
    "      (median_absolute_error(y_train[y_train < 4.9],\n",
    "                             np.exp(plm.predict(X_train[y_train < 4.9]))),\n",
    "       median_absolute_error(y_test[y_test < 4.9],\n",
    "                             np.exp(plm.predict(X_test[y_test < 4.9])))))"
   ]
  },
  {
   "cell_type": "code",
   "execution_count": 15,
   "metadata": {},
   "outputs": [
    {
     "data": {
      "image/png": "[encoded data removed]",
      "text/plain": [
       "<Figure size 432x432 with 1 Axes>"
      ]
     },
     "metadata": {
      "needs_background": "light"
     },
     "output_type": "display_data"
    }
   ],
   "source": [
    "scatter_predictions(\n",
    "    np.exp(plm.predict(X_test[y_test < 4.9])),\n",
    "    y_test[y_test < 4.9])"
   ]
  },
  {
   "cell_type": "code",
   "execution_count": 16,
   "metadata": {},
   "outputs": [
    {
     "name": "stdout",
     "output_type": "stream",
     "text": [
      "CPU times: user 8.37 s, sys: 80.4 ms, total: 8.45 s\n",
      "Wall time: 8.35 s\n",
      "train error: 0.201, test error: 0.212\n"
     ]
    }
   ],
   "source": [
    "from sklearn.neural_network import MLPRegressor\n",
    "\n",
    "mlp = make_pipeline(\n",
    "    StandardScaler(),\n",
    "    MLPRegressor(hidden_layer_sizes=(100, 10, 10), activation='relu'),\n",
    ")\n",
    "%time mlp.fit(X_train[y_train < 4.9], np.log(y_train[y_train < 4.9]))\n",
    "\n",
    "print(\"train error: %0.3f, test error: %0.3f\" %\n",
    "      (median_absolute_error(y_train[y_train < 4.9],\n",
    "                             np.exp(mlp.predict(X_train[y_train < 4.9]))),\n",
    "       median_absolute_error(y_test[y_test < 4.9],\n",
    "                             np.exp(mlp.predict(X_test[y_test < 4.9])))))"
   ]
  },
  {
   "cell_type": "code",
   "execution_count": 17,
   "metadata": {},
   "outputs": [
    {
     "data": {
      "image/png": "[encoded data removed]",
      "text/plain": [
       "<Figure size 432x432 with 1 Axes>"
      ]
     },
     "metadata": {
      "needs_background": "light"
     },
     "output_type": "display_data"
    }
   ],
   "source": [
    "scatter_predictions(\n",
    "    np.exp(mlp.predict(X_test[y_test < 4.9])),\n",
    "    y_test[y_test < 4.9])"
   ]
  },
  {
   "cell_type": "code",
   "execution_count": 18,
   "metadata": {},
   "outputs": [
    {
     "name": "stdout",
     "output_type": "stream",
     "text": [
      "CPU times: user 6.65 s, sys: 56 ms, total: 6.71 s\n",
      "Wall time: 6.67 s\n",
      "train error: 0.135, test error: 0.187\n"
     ]
    }
   ],
   "source": [
    "gbr = GradientBoostingRegressor(learning_rate=0.1, max_depth=8, min_samples_leaf=20,\n",
    "                                n_estimators=100, loss='huber')\n",
    "%time gbr.fit(X_train, y_train)\n",
    "print(\"train error: %0.3f, test error: %0.3f\" %\n",
    "      (median_absolute_error(y_train, gbr.predict(X_train)),\n",
    "       median_absolute_error(y_test, gbr.predict(X_test))))"
   ]
  },
  {
   "cell_type": "code",
   "execution_count": 19,
   "metadata": {},
   "outputs": [
    {
     "data": {
      "image/png": "[encoded data removed]",
      "text/plain": [
       "<Figure size 432x432 with 1 Axes>"
      ]
     },
     "metadata": {
      "needs_background": "light"
     },
     "output_type": "display_data"
    }
   ],
   "source": [
    "scatter_predictions(gbr.predict(X_test), y_test)"
   ]
  },
  {
   "cell_type": "code",
   "execution_count": 20,
   "metadata": {},
   "outputs": [
    {
     "name": "stdout",
     "output_type": "stream",
     "text": [
      "Model size: 1.4 MB\n"
     ]
    }
   ],
   "source": [
    "from pickle import dumps\n",
    "print(\"Model size: %0.1f MB\" % (len(dumps(gbr)) / 1e6))"
   ]
  },
  {
   "cell_type": "code",
   "execution_count": 21,
   "metadata": {},
   "outputs": [
    {
     "name": "stdout",
     "output_type": "stream",
     "text": [
      "696 µs ± 30.3 µs per loop (mean ± std. dev. of 7 runs, 1000 loops each)\n"
     ]
    }
   ],
   "source": [
    "%timeit gbr.predict(X_test[:100])"
   ]
  },
  {
   "cell_type": "code",
   "execution_count": 22,
   "metadata": {},
   "outputs": [
    {
     "name": "stdout",
     "output_type": "stream",
     "text": [
      "CPU times: user 17.5 s, sys: 76.2 ms, total: 17.6 s\n",
      "Wall time: 5.14 s\n",
      "train error: 0.074, test error: 0.196\n"
     ]
    }
   ],
   "source": [
    "from sklearn.ensemble import RandomForestRegressor\n",
    "\n",
    "rfr = RandomForestRegressor(n_estimators=100, n_jobs=-1)\n",
    "%time rfr.fit(X_train, y_train)\n",
    "print(\"train error: %0.3f, test error: %0.3f\" %\n",
    "      (median_absolute_error(y_train, rfr.predict(X_train)),\n",
    "       median_absolute_error(y_test, rfr.predict(X_test))))"
   ]
  },
  {
   "cell_type": "code",
   "execution_count": 23,
   "metadata": {},
   "outputs": [
    {
     "name": "stdout",
     "output_type": "stream",
     "text": [
      "Model size: 152.2 MB\n"
     ]
    }
   ],
   "source": [
    "print(\"Model size: %0.1f MB\" % (len(dumps(rfr)) / 1e6))"
   ]
  },
  {
   "cell_type": "code",
   "execution_count": 24,
   "metadata": {},
   "outputs": [
    {
     "name": "stdout",
     "output_type": "stream",
     "text": [
      "107 ms ± 4.36 ms per loop (mean ± std. dev. of 7 runs, 10 loops each)\n"
     ]
    }
   ],
   "source": [
    "%timeit rfr.predict(X_test[:100])"
   ]
  },
  {
   "cell_type": "markdown",
   "metadata": {},
   "source": [
    "### New Histogram-based Gradient Boosting Trees"
   ]
  },
  {
   "cell_type": "code",
   "execution_count": 25,
   "metadata": {},
   "outputs": [],
   "source": [
    "from sklearn.experimental import enable_hist_gradient_boosting\n",
    "from sklearn.ensemble import HistGradientBoostingRegressor"
   ]
  },
  {
   "cell_type": "code",
   "execution_count": 26,
   "metadata": {},
   "outputs": [
    {
     "name": "stdout",
     "output_type": "stream",
     "text": [
      "CPU times: user 12.1 s, sys: 256 ms, total: 12.4 s\n",
      "Wall time: 3.51 s\n"
     ]
    },
    {
     "data": {
      "text/plain": [
       "HistGradientBoostingRegressor(l2_regularization=0.0, learning_rate=0.1,\n",
       "                              loss='least_squares', max_bins=256,\n",
       "                              max_depth=None, max_iter=100, max_leaf_nodes=256,\n",
       "                              min_samples_leaf=20, n_iter_no_change=None,\n",
       "                              random_state=None, scoring=None, tol=1e-07,\n",
       "                              validation_fraction=0.1, verbose=0)"
      ]
     },
     "execution_count": 26,
     "metadata": {},
     "output_type": "execute_result"
    }
   ],
   "source": [
    "hgbr = HistGradientBoostingRegressor(min_samples_leaf=20, max_leaf_nodes=256,\n",
    "                                     max_iter=100)\n",
    "%time hgbr.fit(X_train, y_train)"
   ]
  },
  {
   "cell_type": "code",
   "execution_count": 27,
   "metadata": {},
   "outputs": [
    {
     "name": "stdout",
     "output_type": "stream",
     "text": [
      "train error: 0.135, test error: 0.187\n"
     ]
    }
   ],
   "source": [
    "print(\"train error: %0.3f, test error: %0.3f\" %\n",
    "      (median_absolute_error(y_train, gbr.predict(X_train)),\n",
    "       median_absolute_error(y_test, gbr.predict(X_test))))"
   ]
  },
  {
   "cell_type": "code",
   "execution_count": 28,
   "metadata": {},
   "outputs": [
    {
     "name": "stdout",
     "output_type": "stream",
     "text": [
      "Model size: 2.4 MB\n"
     ]
    }
   ],
   "source": [
    "print(\"Model size: %0.1f MB\" % (len(dumps(hgbr)) / 1e6))"
   ]
  },
  {
   "cell_type": "code",
   "execution_count": 29,
   "metadata": {},
   "outputs": [
    {
     "name": "stdout",
     "output_type": "stream",
     "text": [
      "2.45 ms ± 302 µs per loop (mean ± std. dev. of 7 runs, 1000 loops each)\n"
     ]
    }
   ],
   "source": [
    "%timeit hgbr.predict(X_test[:100])"
   ]
  },
  {
   "cell_type": "markdown",
   "metadata": {},
   "source": [
    "### Early stopping"
   ]
  },
  {
   "cell_type": "code",
   "execution_count": 30,
   "metadata": {},
   "outputs": [
    {
     "name": "stdout",
     "output_type": "stream",
     "text": [
      "CPU times: user 10.3 s, sys: 101 ms, total: 10.4 s\n",
      "Wall time: 2.91 s\n"
     ]
    },
    {
     "data": {
      "text/plain": [
       "HistGradientBoostingRegressor(l2_regularization=0.0, learning_rate=0.1,\n",
       "                              loss='least_squares', max_bins=256,\n",
       "                              max_depth=None, max_iter=10000,\n",
       "                              max_leaf_nodes=256, min_samples_leaf=20,\n",
       "                              n_iter_no_change=5, random_state=None,\n",
       "                              scoring='loss', tol=1e-07,\n",
       "                              validation_fraction=0.1, verbose=0)"
      ]
     },
     "execution_count": 30,
     "metadata": {},
     "output_type": "execute_result"
    }
   ],
   "source": [
    "hgbr = HistGradientBoostingRegressor(min_samples_leaf=20, max_leaf_nodes=256,\n",
    "                                     n_iter_no_change=5, validation_fraction=0.1,\n",
    "                                     scoring=\"loss\", max_iter=10000)\n",
    "%time hgbr.fit(X_train, y_train)"
   ]
  },
  {
   "cell_type": "code",
   "execution_count": 31,
   "metadata": {},
   "outputs": [
    {
     "name": "stdout",
     "output_type": "stream",
     "text": [
      "train error: 0.135, test error: 0.187\n"
     ]
    }
   ],
   "source": [
    "print(\"train error: %0.3f, test error: %0.3f\" %\n",
    "      (median_absolute_error(y_train, gbr.predict(X_train)),\n",
    "       median_absolute_error(y_test, gbr.predict(X_test))))"
   ]
  },
  {
   "cell_type": "code",
   "execution_count": 32,
   "metadata": {},
   "outputs": [
    {
     "data": {
      "text/plain": [
       "86"
      ]
     },
     "execution_count": 32,
     "metadata": {},
     "output_type": "execute_result"
    }
   ],
   "source": [
    "hgbr.n_iter_"
   ]
  },
  {
   "cell_type": "code",
   "execution_count": 33,
   "metadata": {},
   "outputs": [
    {
     "name": "stdout",
     "output_type": "stream",
     "text": [
      "Model size: 2.0 MB\n"
     ]
    }
   ],
   "source": [
    "print(\"Model size: %0.1f MB\" % (len(dumps(hgbr)) / 1e6))"
   ]
  },
  {
   "cell_type": "code",
   "execution_count": 34,
   "metadata": {},
   "outputs": [
    {
     "data": {
      "image/png": "[encoded data removed]",
      "text/plain": [
       "<Figure size 720x360 with 1 Axes>"
      ]
     },
     "metadata": {
      "needs_background": "light"
     },
     "output_type": "display_data"
    }
   ],
   "source": [
    "fig, ax = plt.subplots(figsize=(10, 5))\n",
    "ax.plot(hgbr.train_score_, label=\"train\")\n",
    "ax.plot(hgbr.validation_score_, \"--\", label=\"validation\")\n",
    "ax.set_xlabel(\"Boosting iteration (trees)\")\n",
    "ax.set_ylabel(\"Negative loss (MSE)\")\n",
    "ax.legend();"
   ]
  },
  {
   "cell_type": "markdown",
   "metadata": {},
   "source": [
    "### Explaining what the model learned"
   ]
  },
  {
   "cell_type": "code",
   "execution_count": 35,
   "metadata": {},
   "outputs": [
    {
     "data": {
      "image/png": "[encoded data removed]",
      "text/plain": [
       "<Figure size 432x288 with 1 Axes>"
      ]
     },
     "metadata": {
      "needs_background": "light"
     },
     "output_type": "display_data"
    }
   ],
   "source": [
    "plt.barh(np.arange(X_train.shape[1]), gbr.feature_importances_,\n",
    "         tick_label=calhousing.feature_names)\n",
    "plt.xlabel(\"Normalized feature importance\")\n",
    "plt.title(\"Gradient Boosted Trees\");"
   ]
  },
  {
   "cell_type": "code",
   "execution_count": 36,
   "metadata": {},
   "outputs": [
    {
     "data": {
      "image/png": "[encoded data removed]",
      "text/plain": [
       "<Figure size 432x288 with 1 Axes>"
      ]
     },
     "metadata": {
      "needs_background": "light"
     },
     "output_type": "display_data"
    }
   ],
   "source": [
    "plt.barh(np.arange(X_train.shape[1]), rfr.feature_importances_,\n",
    "         tick_label=calhousing.feature_names)\n",
    "plt.xlabel(\"Normalized feature importance\")\n",
    "plt.title(\"Random Forest\");"
   ]
  },
  {
   "cell_type": "markdown",
   "metadata": {},
   "source": [
    "**WARNING**: tree-based importance is biased towards high cardinality features (such as continuous  numerical features). In many cases it is therefore recommended to use permutation based feature importances: https://christophm.github.io/interpretable-ml-book/feature-importance.html"
   ]
  },
  {
   "cell_type": "code",
   "execution_count": 37,
   "metadata": {},
   "outputs": [
    {
     "data": {
      "image/png": "[encoded data removed]",
      "text/plain": [
       "<Figure size 720x648 with 5 Axes>"
      ]
     },
     "metadata": {
      "needs_background": "light"
     },
     "output_type": "display_data"
    }
   ],
   "source": [
    "from sklearn.inspection.partial_dependence import plot_partial_dependence\n",
    "\n",
    "features = [0, 5, 1, 2, (5, 1)]\n",
    "\n",
    "plot_partial_dependence(gbr, X_train, features,\n",
    "                        feature_names=calhousing.feature_names,\n",
    "                        n_jobs=-1, grid_resolution=50,\n",
    "                        fig=plt.figure(figsize=(10, 9)))\n",
    "fig.suptitle('Partial dependence of house value on nonlocation features\\n'\n",
    "             'for the California housing dataset');"
   ]
  },
  {
   "cell_type": "markdown",
   "metadata": {},
   "source": [
    "## Tricks"
   ]
  },
  {
   "cell_type": "markdown",
   "metadata": {},
   "source": [
    "### Warm started models"
   ]
  },
  {
   "cell_type": "code",
   "execution_count": 38,
   "metadata": {},
   "outputs": [
    {
     "name": "stdout",
     "output_type": "stream",
     "text": [
      "train error: 0.695, test error: 0.763\n"
     ]
    }
   ],
   "source": [
    "X_train_small, X_val, y_train_small, y_val = train_test_split(\n",
    "    X_train, y_train, train_size=5000, test_size=1000)\n",
    "\n",
    "val_errors = []\n",
    "train_errors = []\n",
    "\n",
    "\n",
    "gbr = GradientBoostingRegressor(learning_rate=0.1, max_depth=8,\n",
    "                                min_samples_leaf=3, n_estimators=1)\n",
    "\n",
    "gbr.fit(X_train_small, y_train_small)\n",
    "\n",
    "train_error = median_absolute_error(y_train, gbr.predict(X_train))\n",
    "val_error = median_absolute_error(y_test, gbr.predict(X_test))\n",
    "\n",
    "train_errors.append(train_error)\n",
    "val_errors.append(val_error)\n",
    "\n",
    "print(\"train error: %0.3f, test error: %0.3f\" % (train_error, val_error)) "
   ]
  },
  {
   "cell_type": "code",
   "execution_count": 39,
   "metadata": {},
   "outputs": [
    {
     "name": "stdout",
     "output_type": "stream",
     "text": [
      "n_trees=10, train error: 0.412, test error: 0.444\n",
      "n_trees=20, train error: 0.281, test error: 0.300\n",
      "n_trees=30, train error: 0.226, test error: 0.250\n",
      "n_trees=40, train error: 0.203, test error: 0.225\n",
      "n_trees=50, train error: 0.194, test error: 0.219\n",
      "n_trees=60, train error: 0.188, test error: 0.216\n",
      "n_trees=70, train error: 0.184, test error: 0.217\n",
      "n_trees=80, train error: 0.180, test error: 0.217\n",
      "n_trees=90, train error: 0.176, test error: 0.216\n",
      "n_trees=100, train error: 0.172, test error: 0.214\n"
     ]
    }
   ],
   "source": [
    "for i in range(100):\n",
    "    gbr.set_params(warm_start=True, n_estimators=len(gbr.estimators_) + 1)\n",
    "    gbr.fit(X_train_small, y_train_small)\n",
    "    train_error = median_absolute_error(y_train, gbr.predict(X_train))\n",
    "    val_error = median_absolute_error(y_test, gbr.predict(X_test))\n",
    "\n",
    "    train_errors.append(train_error)\n",
    "    val_errors.append(val_error)\n",
    "    if (i + 2) % 10 == 0:\n",
    "        print(\"n_trees=%d, train error: %0.3f, test error: %0.3f\"\n",
    "              % (len(gbr.estimators_), train_error, val_error)) "
   ]
  },
  {
   "cell_type": "code",
   "execution_count": 40,
   "metadata": {},
   "outputs": [
    {
     "data": {
      "image/png": "[encoded data removed]",
      "text/plain": [
       "<Figure size 432x288 with 1 Axes>"
      ]
     },
     "metadata": {
      "needs_background": "light"
     },
     "output_type": "display_data"
    }
   ],
   "source": [
    "tree_indices = np.arange(len(val_errors)) + 1\n",
    "plt.plot(tree_indices, train_errors, label='training')\n",
    "plt.plot(tree_indices, val_errors, label='validation')\n",
    "plt.xlabel('number of trees')\n",
    "plt.ylabel('mean absolute error')\n",
    "plt.legend(loc='best');"
   ]
  },
  {
   "cell_type": "markdown",
   "metadata": {},
   "source": [
    "### Early stopping with custom iteration loop"
   ]
  },
  {
   "cell_type": "code",
   "execution_count": 41,
   "metadata": {},
   "outputs": [
    {
     "name": "stdout",
     "output_type": "stream",
     "text": [
      "Converged at tree #51\n"
     ]
    }
   ],
   "source": [
    "patience = 5\n",
    "gbr = GradientBoostingRegressor(learning_rate=0.1, max_depth=8, min_samples_leaf=3,\n",
    "                                n_estimators=1, warm_start=True)\n",
    "\n",
    "best_error = np.inf\n",
    "\n",
    "for i in range(100):\n",
    "    gbr.set_params(n_estimators=i + 1)\n",
    "    gbr.fit(X_train_small, y_train_small)\n",
    "    val_error = median_absolute_error(y_test, gbr.predict(X_test))\n",
    "    if val_error < best_error:\n",
    "        best_error = val_error\n",
    "    else:\n",
    "        patience -= 1\n",
    "        if patience < 0:\n",
    "            print('Converged at tree #%d' % (i + 1))\n",
    "            break"
   ]
  },
  {
   "cell_type": "markdown",
   "metadata": {},
   "source": [
    "### Randomized parameter search with early stopping\n",
    "\n",
    "This feature is being implemented directly in scikit-learn as part of [PR #5689](https://github.com/scikit-learn/scikit-learn/pull/5689).\n",
    "\n",
    "Important hyper-parameters:\n",
    "\n",
    "- `loss`\n",
    "- `n_estimators` / `max_iter`\n",
    "- `max_depth` (typically much smaller than for random forests) or `max_leaf_nodes`\n",
    "- `min_samples_leaf` (help reduce the trees / model size and prediction speed)"
   ]
  },
  {
   "cell_type": "markdown",
   "metadata": {},
   "source": [
    "### Probability calibration for classification confidence\n",
    "\n",
    "Motivation:\n",
    "\n",
    "- For realtime bidding: bid ~= CTR * expected revenue per click. CTR is a likelihood of clicking and can be estimated by the confidence level of the model.\n",
    "\n",
    "- For a recommender system, it might be interesting to put a threshold on the number of items you recommend to a specific user in a specific context: better make 1 or 2 good recommendations than 10 recommendations with 9 garbage items. In order for this threshold to stay meaningful when you change the way you train the models, it might be a good idea to calibrate the model confidence level.\n",
    "\n",
    "`GradientBoostingClassifier` has a `predict_proba` method but what it outputs tends to be mis-calibrated by default (similar to Support Vector Machines). It might be necessary to use Platt-scaling or Isotonic regression to recalibrate the model via cross-validation.\n",
    "\n",
    "See: http://scikit-learn.org/stable/modules/calibration.html"
   ]
  },
  {
   "cell_type": "markdown",
   "metadata": {},
   "source": [
    "### Categorical features encoded as integers\n",
    "\n",
    "One-hot encoding is pretty useless for tree-based models (at least in scikit-learn). Contrary to other models it's pretty safe and much more efficient to use integer based encoding for instance using pandas:\n",
    "\n",
    "```python\n",
    "    >>> categorical_data.apply(lambda x: pd.factorize(x)[0])\n",
    "```\n",
    "\n",
    "alternatively you can use scikit-learn's [LabelEncoder](http://scikit-learn.org/stable/modules/generated/sklearn.preprocessing.LabelEncoder.html)."
   ]
  },
  {
   "cell_type": "markdown",
   "metadata": {},
   "source": [
    "## Limitations"
   ]
  },
  {
   "cell_type": "markdown",
   "metadata": {},
   "source": [
    "###  Regression with homogeneous feature interactions"
   ]
  },
  {
   "cell_type": "markdown",
   "metadata": {},
   "source": [
    "Trees required to approximate X1−X2:\n",
    "\n",
    "10 trees:\n",
    "\n",
    "<img \n",
    "  width=\"50%\"\n",
    "  src=\"http://nbviewer.jupyter.org/github/pprett/pydata-gbrt-tutorial/blob/master/func_approx_minus_2.png\" />\n",
    "  \n",
    "1000 trees:\n",
    "\n",
    "<img \n",
    "  width=\"50%\"\n",
    "  src=\"http://nbviewer.jupyter.org/github/pprett/pydata-gbrt-tutorial/blob/master/func_approx_minus_3.png\" />\n",
    "  \n",
    "Credits: https://github.com/pprett/pydata-gbrt-tutorial"
   ]
  },
  {
   "cell_type": "markdown",
   "metadata": {},
   "source": [
    "### Multiclass classification"
   ]
  },
  {
   "cell_type": "markdown",
   "metadata": {},
   "source": [
    "The training time, model size and prediction latency of Gradient Boosted Trees scale linearly with the number of classes...\n",
    "\n",
    "The following are possibly better models for multiclass classification with a large number of classes:\n",
    "\n",
    "- Random Forests\n",
    "- Linear models: multi-nomial logistic regression: might require extensive feature engineering to model non-linear interactions in original space. The nystroem method or polynomial features migth be useful in that case.\n",
    "- Neural Networks (MLP)"
   ]
  },
  {
   "cell_type": "markdown",
   "metadata": {},
   "source": [
    "### High-dimensional feature spaces\n",
    "\n",
    "GBRT models tend to work better on lower dimensional space (typically less than 500 features). Using feature importances or other feature selection strategies might help focus the feature engineering effort. But it cannot deal with very high dim bag of words feature for text classification for instance.\n",
    "\n",
    "For very high-dimensional data, linear models will be much faster to train and possibly yield much better results. GBRT models can still be useful to blend predictions of other models, for instance:\n",
    "\n",
    "- free text fields in database columns + few numeric or categorical fields\n",
    "- train one TF-IDF (Bag of Words features) + logistic regression model per free-text field\n",
    "- train a GBRT model that uses logistic regression models' probabilistic predictions concatenated with numerical and (integer coded) categorical fields to compute the final predictions."
   ]
  },
  {
   "cell_type": "markdown",
   "metadata": {},
   "source": [
    "## XGBoost and LightGBM\n",
    "\n",
    "XGBoost and LightGBM provide a more efficient implementation and notably supports multi-threading via a scikit-learn compatible interface. \n",
    "\n",
    "They also support out-of-core and distributed model fitting although via a different API.\n",
    "\n",
    "The new Histogram-based model of scikit-learn should be computationally competitive but (on single machine multithreads) but do not have all their features yet."
   ]
  },
  {
   "cell_type": "code",
   "execution_count": 42,
   "metadata": {},
   "outputs": [
    {
     "name": "stdout",
     "output_type": "stream",
     "text": [
      "CPU times: user 3.51 s, sys: 801 µs, total: 3.51 s\n",
      "Wall time: 3.51 s\n",
      "train error: 0.130, test error: 0.193\n"
     ]
    }
   ],
   "source": [
    "from xgboost import XGBRegressor\n",
    "\n",
    "xgbr = XGBRegressor(learning_rate=0.1, max_depth=8, n_estimators=100)\n",
    "%time xgbr.fit(X_train, y_train)\n",
    "print(\"train error: %0.3f, test error: %0.3f\" %\n",
    "      (median_absolute_error(y_train, xgbr.predict(X_train)),\n",
    "       median_absolute_error(y_test, xgbr.predict(X_test))))"
   ]
  },
  {
   "cell_type": "code",
   "execution_count": 43,
   "metadata": {},
   "outputs": [
    {
     "name": "stdout",
     "output_type": "stream",
     "text": [
      "1.2 ms ± 146 µs per loop (mean ± std. dev. of 7 runs, 1000 loops each)\n"
     ]
    }
   ],
   "source": [
    "%timeit xgbr.predict(X_test[:100])"
   ]
  },
  {
   "cell_type": "code",
   "execution_count": 44,
   "metadata": {
    "collapsed": true
   },
   "outputs": [
    {
     "name": "stdout",
     "output_type": "stream",
     "text": [
      "Model size: 1.3 MB\n"
     ]
    }
   ],
   "source": [
    "print(\"Model size: %0.1f MB\" % (len(dumps(xgbr)) / 1e6))"
   ]
  },
  {
   "cell_type": "code",
   "execution_count": null,
   "metadata": {},
   "outputs": [],
   "source": []
  }
 ],
 "metadata": {
  "kernelspec": {
   "display_name": "Python 3",
   "language": "python",
   "name": "python3"
  },
  "language_info": {
   "codemirror_mode": {
    "name": "ipython",
    "version": 3
   },
   "file_extension": ".py",
   "mimetype": "text/x-python",
   "name": "python",
   "nbconvert_exporter": "python",
   "pygments_lexer": "ipython3",
   "version": "3.7.3"
  }
 },
 "nbformat": 4,
 "nbformat_minor": 2
}
